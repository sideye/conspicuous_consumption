{
 "cells": [
  {
   "cell_type": "code",
   "execution_count": 58,
   "metadata": {},
   "outputs": [],
   "source": [
    "import pandas as pd\n",
    "import numpy as np"
   ]
  },
  {
   "cell_type": "code",
   "execution_count": 59,
   "metadata": {},
   "outputs": [
    {
     "name": "stdout",
     "output_type": "stream",
     "text": [
      "data_wetrepublic_comments\n",
      "data_cavesduroyST_comments\n",
      "data_grandBoston_comments\n",
      "data_grandSF_likes\n",
      "data_grandBoston_likes\n",
      "data_prsymCH_likes\n",
      "data_rudas_likes\n",
      "data_oxfordsc_sd_comments\n",
      "data_cavesduroyST_posts\n",
      "data_wetrepublic_posts\n",
      "data_grandSF_comments\n",
      "data_prsymCH_comments\n",
      "data_oxfordsc_sd_posts\n",
      "data_templeSF_posts\n",
      "data_grandSF_posts\n",
      "data_rudas_comments\n",
      "data_grandBoston_posts\n",
      "data_templeSF_comments\n",
      "data_rudas_posts\n",
      "errors\n",
      "data_prsymCH_posts\n",
      "data_oxfordsc_sd_likes\n",
      "data_templeSF_likes\n",
      "data_cavesduroyST_likes\n",
      "data_wetrepublic_likes\n"
     ]
    }
   ],
   "source": [
    "from os import listdir\n",
    "from os.path import isfile, join, isdir, splitext\n",
    "\n",
    "names = {}\n",
    "for f in listdir(\"./\"):\n",
    "    if f.endswith(\".csv\"):\n",
    "        print(splitext(f)[0])\n",
    "        if splitext(f)[0] in names:\n",
    "            table = pd.read_csv(f)\n",
    "            names[splitext(f)[0]] += [table]\n",
    "        else:\n",
    "            table = pd.read_csv(f)\n",
    "            names[splitext(f)[0]] = [table]"
   ]
  },
  {
   "cell_type": "code",
   "execution_count": 60,
   "metadata": {},
   "outputs": [
    {
     "name": "stdout",
     "output_type": "stream",
     "text": [
      "data_wetrepublic_comments\n",
      "data_cavesduroyST_comments\n",
      "data_grandBoston_comments\n",
      "data_grandSF_likes\n",
      "data_grandBoston_likes\n",
      "data_prsymCH_likes\n",
      "data_rudas_likes\n",
      "data_oxfordsc_sd_comments\n",
      "data_cavesduroyST_posts\n",
      "data_wetrepublic_posts\n",
      "data_grandSF_comments\n",
      "data_prsymCH_comments\n",
      "data_oxfordsc_sd_posts\n",
      "data_templeSF_posts\n",
      "data_grandSF_posts\n",
      "data_rudas_comments\n",
      "data_grandBoston_posts\n",
      "data_templeSF_comments\n",
      "data_rudas_posts\n",
      "errors\n",
      "data_prsymCH_posts\n",
      "data_oxfordsc_sd_likes\n",
      "data_templeSF_likes\n",
      "data_cavesduroyST_likes\n",
      "data_wetrepublic_likes\n"
     ]
    }
   ],
   "source": [
    "for f in listdir(\"./ErrorFixes/\"):\n",
    "    if f.endswith(\".csv\"):\n",
    "        print(splitext(f)[0])\n",
    "        if splitext(f)[0] in names:\n",
    "            table = pd.read_csv(\"./ErrorFixes/\" + f)\n",
    "            names[splitext(f)[0]] += [table]\n",
    "        else:\n",
    "            table = pd.read_csv(f)\n",
    "            print(\"I ran\")\n",
    "            names[splitext(f)[0]] = [table]"
   ]
  },
  {
   "cell_type": "code",
   "execution_count": 62,
   "metadata": {},
   "outputs": [
    {
     "name": "stdout",
     "output_type": "stream",
     "text": [
      "data_wetrepublic_comments\n",
      "data_cavesduroyST_comments\n",
      "data_grandBoston_comments\n",
      "data_grandSF_likes\n",
      "data_grandBoston_likes\n",
      "data_prsymCH_likes\n",
      "data_rudas_likes\n",
      "data_oxfordsc_sd_comments\n",
      "data_cavesduroyST_posts\n",
      "data_wetrepublic_posts\n",
      "data_grandSF_comments\n",
      "data_prsymCH_comments\n",
      "data_oxfordsc_sd_posts\n",
      "data_templeSF_posts\n",
      "data_grandSF_posts\n",
      "data_rudas_comments\n",
      "data_grandBoston_posts\n",
      "data_templeSF_comments\n",
      "data_rudas_posts\n",
      "errors\n",
      "data_prsymCH_posts\n",
      "data_oxfordsc_sd_likes\n",
      "data_templeSF_likes\n",
      "data_cavesduroyST_likes\n",
      "data_wetrepublic_likes\n"
     ]
    }
   ],
   "source": [
    "for f in listdir(\"./ErrorFixes/ErrorFixes/\"):\n",
    "    if f.endswith(\".csv\"):\n",
    "        print(splitext(f)[0])\n",
    "        if splitext(f)[0] in names:\n",
    "            table = pd.read_csv(\"./ErrorFixes/ErrorFixes/\" + f)\n",
    "            names[splitext(f)[0]] += [table]\n",
    "        else:\n",
    "            table = pd.read_csv(f)\n",
    "            print(\"I ran\")\n",
    "            names[splitext(f)[0]] = [table]"
   ]
  },
  {
   "cell_type": "code",
   "execution_count": 64,
   "metadata": {},
   "outputs": [],
   "source": [
    "outputs = {}\n",
    "for file, df_list in names.items():\n",
    "    output_df = pd.DataFrame()\n",
    "    for df in df_list:\n",
    "        output_df = output_df.append(df, ignore_index = True)\n",
    "    outputs[file] = output_df"
   ]
  },
  {
   "cell_type": "code",
   "execution_count": 65,
   "metadata": {},
   "outputs": [],
   "source": [
    "# Assert that the tables have been joined correctly\n",
    "assert len(outputs[\"data_prsymCH_posts\"].index) == sum(len(df.index) for df in names[\"data_prsymCH_posts\"])"
   ]
  },
  {
   "cell_type": "code",
   "execution_count": 66,
   "metadata": {
    "scrolled": true
   },
   "outputs": [
    {
     "data": {
      "text/plain": [
       "79287"
      ]
     },
     "execution_count": 66,
     "metadata": {},
     "output_type": "execute_result"
    }
   ],
   "source": [
    "len(outputs[\"data_wetrepublic_comments\"])"
   ]
  },
  {
   "cell_type": "code",
   "execution_count": 67,
   "metadata": {},
   "outputs": [],
   "source": [
    "# Drop duplicates\n",
    "for file, df in outputs.items():\n",
    "    outputs[file] = df.drop_duplicates()"
   ]
  },
  {
   "cell_type": "code",
   "execution_count": 68,
   "metadata": {
    "scrolled": true
   },
   "outputs": [
    {
     "data": {
      "text/plain": [
       "70011"
      ]
     },
     "execution_count": 68,
     "metadata": {},
     "output_type": "execute_result"
    }
   ],
   "source": [
    "len(outputs[\"data_wetrepublic_comments\"])"
   ]
  },
  {
   "cell_type": "code",
   "execution_count": 73,
   "metadata": {},
   "outputs": [],
   "source": [
    "import os \n",
    "os.mkdir(\"final_outputs\")\n",
    "for file, df in outputs.items():\n",
    "    df.to_csv(\"./final_outputs/\" +  file + \".csv\")"
   ]
  },
  {
   "cell_type": "code",
   "execution_count": null,
   "metadata": {},
   "outputs": [],
   "source": []
  }
 ],
 "metadata": {
  "kernelspec": {
   "display_name": "Python 3",
   "language": "python",
   "name": "python3"
  },
  "language_info": {
   "codemirror_mode": {
    "name": "ipython",
    "version": 3
   },
   "file_extension": ".py",
   "mimetype": "text/x-python",
   "name": "python",
   "nbconvert_exporter": "python",
   "pygments_lexer": "ipython3",
   "version": "3.7.0"
  }
 },
 "nbformat": 4,
 "nbformat_minor": 2
}
