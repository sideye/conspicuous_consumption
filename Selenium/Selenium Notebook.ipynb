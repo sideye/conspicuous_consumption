{
 "cells": [
  {
   "cell_type": "code",
   "execution_count": 36,
   "metadata": {},
   "outputs": [],
   "source": [
    "from selenium import webdriver\n",
    "from selenium.webdriver.common.keys import Keys\n",
    "import re\n",
    "import time"
   ]
  },
  {
   "cell_type": "code",
   "execution_count": 41,
   "metadata": {},
   "outputs": [],
   "source": [
    "URL = \"https://www.instagram.com/boulevard3la/\" #CHANGEME"
   ]
  },
  {
   "cell_type": "code",
   "execution_count": 42,
   "metadata": {},
   "outputs": [
    {
     "name": "stdout",
     "output_type": "stream",
     "text": [
      "Added BmXdpG_BNjQ\n",
      "0\n",
      "Added BmU8jeJBTp7\n",
      "1\n",
      "Added BmUxveHhcPd\n",
      "2\n",
      "Added Bl_TQEJhwM3\n",
      "3\n",
      "Added Bld-sqKh_pn\n",
      "4\n",
      "Added BjyZqb1BeN9\n",
      "5\n",
      "Added BjuzqkEh9NO\n",
      "6\n",
      "Added BjLyg2HBpwi\n",
      "7\n",
      "Added BiScn0xB5ZH\n",
      "8\n",
      "Added BiF3MCJh0wh\n",
      "9\n",
      "Added BiDNS9Hh91F\n",
      "10\n",
      "Added BhuYkQTh4_x\n",
      "11\n"
     ]
    }
   ],
   "source": [
    "driver = webdriver.Chrome(\"./chromedriver\")\n",
    "driver.get(URL)\n",
    "\n",
    "# Source: https://stackoverflow.com/questions/20986631/how-can-i-scroll-a-web-page-using-selenium-webdriver-in-python\n",
    "SCROLL_PAUSE_TIME = 7\n",
    "# Get scroll height\n",
    "last_height = driver.execute_script(\"return document.body.scrollHeight\")\n",
    "shortcodes = set()\n",
    "\n",
    "while True:\n",
    "    page_path = \"//*[@id='react-root']/section/main/div/div[2]/article/div[1]/div\"\n",
    "    page = driver.find_element_by_xpath(page_path)\n",
    "    page = page.find_elements_by_xpath(\"*\")\n",
    "    for row in page:\n",
    "        row = row.find_elements_by_xpath(\"*\")\n",
    "        for post in row: \n",
    "            post = post.find_element_by_xpath(\"*\")\n",
    "            post_url = post.get_attribute(\"href\")\n",
    "            shortcode = re.findall(\"\\/p\\/(.+)\\/\", post_url)[0]\n",
    "            print(\"Added\", shortcode)\n",
    "            print(len(shortcodes))\n",
    "            shortcodes.add(shortcode)\n",
    "\n",
    "    # Scroll down to bottom\n",
    "    driver.execute_script(\"window.scrollTo(0, document.body.scrollHeight);\")\n",
    "    \n",
    "    # Wait to load page\n",
    "    time.sleep(SCROLL_PAUSE_TIME)\n",
    "\n",
    "    # Calculate new scroll height and compare with last scroll height\n",
    "    new_height = driver.execute_script(\"return document.body.scrollHeight\")\n",
    "    if new_height == last_height:\n",
    "        break\n",
    "    last_height = new_height"
   ]
  },
  {
   "cell_type": "code",
   "execution_count": 39,
   "metadata": {},
   "outputs": [
    {
     "data": {
      "text/plain": [
       "1989"
      ]
     },
     "execution_count": 39,
     "metadata": {},
     "output_type": "execute_result"
    }
   ],
   "source": [
    "len(shortcodes)"
   ]
  },
  {
   "cell_type": "code",
   "execution_count": 40,
   "metadata": {},
   "outputs": [],
   "source": [
    "import os\n",
    "with open(\"ohmnightclubla.txt\", \"w\") as f:\n",
    "    f.write(\"[\")\n",
    "    for shortcode in shortcodes:\n",
    "        f.write(\"\\\"\" + shortcode + \"\\\", \")\n",
    "    f.write(\"]\")"
   ]
  },
  {
   "cell_type": "code",
   "execution_count": null,
   "metadata": {},
   "outputs": [],
   "source": []
  }
 ],
 "metadata": {
  "kernelspec": {
   "display_name": "Python 3",
   "language": "python",
   "name": "python3"
  },
  "language_info": {
   "codemirror_mode": {
    "name": "ipython",
    "version": 3
   },
   "file_extension": ".py",
   "mimetype": "text/x-python",
   "name": "python",
   "nbconvert_exporter": "python",
   "pygments_lexer": "ipython3",
   "version": "3.7.0"
  }
 },
 "nbformat": 4,
 "nbformat_minor": 2
}
