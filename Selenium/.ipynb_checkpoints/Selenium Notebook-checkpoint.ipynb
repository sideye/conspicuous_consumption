{
 "cells": [
  {
   "cell_type": "code",
   "execution_count": null,
   "metadata": {},
   "outputs": [],
   "source": [
    "# Import required packages\n",
    "from selenium import webdriver\n",
    "from selenium.webdriver.common.keys import Keys\n",
    "import re\n",
    "import time"
   ]
  },
  {
   "cell_type": "code",
   "execution_count": null,
   "metadata": {},
   "outputs": [],
   "source": [
    "URL = \"https://www.instagram.com/hakkasanLV/\" # CHANGE ME to your desired instagram profile"
   ]
  },
  {
   "cell_type": "code",
   "execution_count": null,
   "metadata": {},
   "outputs": [],
   "source": [
    "driver = webdriver.Chrome(\"./chromedriver\")\n",
    "driver.get(URL)\n",
    "\n",
    "# Source: https://stackoverflow.com/questions/20986631/how-can-i-scroll-a-web-page-using-selenium-webdriver-in-python\n",
    "SCROLL_PAUSE_TIME = 8\n",
    "# Get scroll height\n",
    "last_height = driver.execute_script(\"return document.body.scrollHeight\")\n",
    "shortcodes = set()\n",
    "\n",
    "while True:\n",
    "    works = False\n",
    "    index = 2\n",
    "    while not works: # This is to counter some really dumb thing from Instagram that shuffles up the div containers in its HTML. \n",
    "        print(\"I'm trying\", index)\n",
    "        try: \n",
    "            page_path = \"//*[@id='react-root']/section/main/div/div[\" + str(index) + \"]/article/div[1]/div\" # Finds elements by xpath\n",
    "            page = driver.find_element_by_xpath(page_path)\n",
    "            works = True\n",
    "        except:\n",
    "            pass\n",
    "        index += 1\n",
    "    page = page.find_elements_by_xpath(\"*\")\n",
    "    for row in page:\n",
    "        row = row.find_elements_by_xpath(\"*\")\n",
    "        for post in row: \n",
    "            post = post.find_element_by_xpath(\"*\")\n",
    "            post_url = post.get_attribute(\"href\")\n",
    "            shortcode = re.findall(\"\\/p\\/(.+)\\/\", post_url)[0]\n",
    "            print(\"Added\", shortcode)\n",
    "            print(len(shortcodes))\n",
    "            shortcodes.add(shortcode)\n",
    "\n",
    "    # Scroll down to bottom\n",
    "    driver.execute_script(\"window.scrollTo(0, document.body.scrollHeight);\")\n",
    "    \n",
    "    # Wait to load page\n",
    "    time.sleep(SCROLL_PAUSE_TIME)\n",
    "\n",
    "    # Calculate new scroll height and compare with last scroll height\n",
    "    new_height = driver.execute_script(\"return document.body.scrollHeight\")\n",
    "    if new_height == last_height:\n",
    "        break\n",
    "    last_height = new_height"
   ]
  },
  {
   "cell_type": "code",
   "execution_count": null,
   "metadata": {},
   "outputs": [],
   "source": [
    "# Please verify that the amount of shortcodes scraped is similar to the actual amount on the instagram profile.\n",
    "len(shortcodes)"
   ]
  },
  {
   "cell_type": "code",
   "execution_count": null,
   "metadata": {},
   "outputs": [],
   "source": [
    "# Write results into a txt file. \n",
    "import os\n",
    "with open(\"hakkasanLV.txt\", \"w\") as f: # CHANGE ME\n",
    "    f.write(\"[\")\n",
    "    for shortcode in shortcodes:\n",
    "        f.write(\"\\\"\" + shortcode + \"\\\", \")\n",
    "    f.write(\"]\")"
   ]
  },
  {
   "cell_type": "code",
   "execution_count": null,
   "metadata": {},
   "outputs": [],
   "source": []
  }
 ],
 "metadata": {
  "kernelspec": {
   "display_name": "Python 3",
   "language": "python",
   "name": "python3"
  },
  "language_info": {
   "codemirror_mode": {
    "name": "ipython",
    "version": 3
   },
   "file_extension": ".py",
   "mimetype": "text/x-python",
   "name": "python",
   "nbconvert_exporter": "python",
   "pygments_lexer": "ipython3",
   "version": "3.6.5"
  }
 },
 "nbformat": 4,
 "nbformat_minor": 2
}
