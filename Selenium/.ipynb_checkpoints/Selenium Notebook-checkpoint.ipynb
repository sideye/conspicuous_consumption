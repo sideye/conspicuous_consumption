{
 "cells": [
  {
   "cell_type": "code",
   "execution_count": 1,
   "metadata": {},
   "outputs": [],
   "source": [
    "from selenium import webdriver\n",
    "from selenium.webdriver.common.keys import Keys\n",
    "import re\n",
    "import time"
   ]
  },
  {
   "cell_type": "code",
   "execution_count": 19,
   "metadata": {},
   "outputs": [],
   "source": [
    "URL = \"https://www.instagram.com/hakkasanLV/\" #CHANGEME"
   ]
  },
  {
   "cell_type": "code",
   "execution_count": null,
   "metadata": {},
   "outputs": [
    {
     "name": "stdout",
     "output_type": "stream",
     "text": [
      "I'm trying 2\n",
      "Added BmmY7tllSHX\n",
      "0\n",
      "Added BmmLg3slsfI\n",
      "1\n",
      "Added Bml6eVKFz1A\n",
      "2\n",
      "Added BmjebZ1FM-f\n",
      "3\n",
      "Added BmgmfQOFSDh\n",
      "4\n",
      "Added BmefSgtltGT\n",
      "5\n",
      "Added BmeRZValIhQ\n",
      "6\n",
      "Added Bmd_EJGludj\n",
      "7\n",
      "Added BmbTj00l_C5\n",
      "8\n",
      "Added BmZRD8CFYpD\n",
      "9\n",
      "Added BmZDcsDl5xh\n",
      "10\n",
      "Added BmWuGh2Fdgh\n",
      "11\n"
     ]
    }
   ],
   "source": [
    "driver = webdriver.Chrome(\"./chromedriver\")\n",
    "driver.get(URL)\n",
    "\n",
    "# Source: https://stackoverflow.com/questions/20986631/how-can-i-scroll-a-web-page-using-selenium-webdriver-in-python\n",
    "SCROLL_PAUSE_TIME = 8\n",
    "# Get scroll height\n",
    "last_height = driver.execute_script(\"return document.body.scrollHeight\")\n",
    "shortcodes = set()\n",
    "\n",
    "while True:\n",
    "    works = False\n",
    "    index = 2\n",
    "    while not works: # This is to counter some really dumb thing from Instagram that shuffles up the div containers in its HTML. \n",
    "        print(\"I'm trying\", index)\n",
    "        try: \n",
    "            page_path = \"//*[@id='react-root']/section/main/div/div[\" + str(index) + \"]/article/div[1]/div\"\n",
    "            page = driver.find_element_by_xpath(page_path)\n",
    "            works = True\n",
    "        except:\n",
    "            pass\n",
    "        index += 1\n",
    "    page = page.find_elements_by_xpath(\"*\")\n",
    "    for row in page:\n",
    "        row = row.find_elements_by_xpath(\"*\")\n",
    "        for post in row: \n",
    "            post = post.find_element_by_xpath(\"*\")\n",
    "            post_url = post.get_attribute(\"href\")\n",
    "            shortcode = re.findall(\"\\/p\\/(.+)\\/\", post_url)[0]\n",
    "            print(\"Added\", shortcode)\n",
    "            print(len(shortcodes))\n",
    "            shortcodes.add(shortcode)\n",
    "\n",
    "    # Scroll down to bottom\n",
    "    driver.execute_script(\"window.scrollTo(0, document.body.scrollHeight);\")\n",
    "    \n",
    "    # Wait to load page\n",
    "    time.sleep(SCROLL_PAUSE_TIME)\n",
    "\n",
    "    # Calculate new scroll height and compare with last scroll height\n",
    "    new_height = driver.execute_script(\"return document.body.scrollHeight\")\n",
    "    if new_height == last_height:\n",
    "        break\n",
    "    last_height = new_height"
   ]
  },
  {
   "cell_type": "code",
   "execution_count": 17,
   "metadata": {},
   "outputs": [
    {
     "data": {
      "text/plain": [
       "512"
      ]
     },
     "execution_count": 17,
     "metadata": {},
     "output_type": "execute_result"
    }
   ],
   "source": [
    "len(shortcodes)"
   ]
  },
  {
   "cell_type": "code",
   "execution_count": 18,
   "metadata": {},
   "outputs": [],
   "source": [
    "import os\n",
    "with open(\"hakksanLV.txt\", \"w\") as f:\n",
    "    f.write(\"[\")\n",
    "    for shortcode in shortcodes:\n",
    "        f.write(\"\\\"\" + shortcode + \"\\\", \")\n",
    "    f.write(\"]\")"
   ]
  },
  {
   "cell_type": "code",
   "execution_count": null,
   "metadata": {},
   "outputs": [],
   "source": []
  }
 ],
 "metadata": {
  "kernelspec": {
   "display_name": "Python 3",
   "language": "python",
   "name": "python3"
  },
  "language_info": {
   "codemirror_mode": {
    "name": "ipython",
    "version": 3
   },
   "file_extension": ".py",
   "mimetype": "text/x-python",
   "name": "python",
   "nbconvert_exporter": "python",
   "pygments_lexer": "ipython3",
   "version": "3.7.0"
  }
 },
 "nbformat": 4,
 "nbformat_minor": 2
}
