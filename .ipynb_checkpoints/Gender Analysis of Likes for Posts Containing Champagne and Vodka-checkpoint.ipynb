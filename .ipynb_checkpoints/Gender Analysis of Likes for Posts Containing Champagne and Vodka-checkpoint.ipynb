{
 "cells": [
  {
   "cell_type": "code",
   "execution_count": 205,
   "metadata": {},
   "outputs": [],
   "source": [
    "import pandas as pd\n",
    "import numpy as np\n",
    "import matplotlib.pyplot as plt"
   ]
  },
  {
   "cell_type": "code",
   "execution_count": 206,
   "metadata": {},
   "outputs": [],
   "source": [
    "# Currently unscraped\n",
    "boulevard = pd.read_excel(\"3_clubs_data.xlsx\", sheet_name=\"Boulevard_3\")\n",
    "cle = pd.read_excel(\"3_clubs_data.xlsx\", sheet_name=\"Cle\")\n",
    "ohm = pd.read_excel(\"3_clubs_data.xlsx\", sheet_name=\"OHM\")\n",
    "\n",
    "# Currently scraped\n",
    "rudas = pd.read_excel(\"insta_somecoding_180813.xlsx\", sheet_name=\"Rudas\")\n",
    "oxford = pd.read_excel(\"insta_somecoding_180813.xlsx\", sheet_name=\"OxfordSD\")"
   ]
  },
  {
   "cell_type": "code",
   "execution_count": 207,
   "metadata": {},
   "outputs": [],
   "source": [
    "# Data cleaning: there may be spaces before each value\n",
    "for col in rudas:\n",
    "    if col[:1] == \" \":\n",
    "        new_name = col[1:]\n",
    "    else:\n",
    "        new_name = col\n",
    "    column = []\n",
    "    for value in rudas[col]:\n",
    "        if isinstance(value, str) and value[:1] == \" \":\n",
    "            column += [value[1:]]\n",
    "        else: \n",
    "            column += [value]\n",
    "    rudas[col] = column\n",
    "    rudas.rename(index = str, columns = {col:new_name}, inplace = True)\n",
    "\n",
    "for col in oxford:\n",
    "    if col[:1] == \" \":\n",
    "        new_name = col[1:]\n",
    "    else:\n",
    "        new_name = col\n",
    "    column = []\n",
    "    for value in oxford[col]:\n",
    "        if isinstance(value, str) and value[:1] == \" \":\n",
    "            column += [value[1:]]\n",
    "        else: \n",
    "            column += [value]\n",
    "    oxford[col] = column\n",
    "    oxford.rename(index = str, columns = {col:new_name}, inplace = True)"
   ]
  },
  {
   "cell_type": "code",
   "execution_count": 208,
   "metadata": {},
   "outputs": [],
   "source": [
    "oxford_posts = pd.read_csv(\"Jul15Outputs/final_outputs/data_oxfordsc_sd_posts.csv\")\n",
    "oxford_likes = pd.read_csv(\"Jul15Outputs/final_outputs/data_oxfordsc_sd_likes.csv\")\n",
    "oxford_comments = pd.read_csv(\"Jul15Outputs/final_outputs/data_oxfordsc_sd_comments.csv\")\n",
    "rudas_posts = pd.read_csv(\"Jul15Outputs/final_outputs/data_rudas_posts.csv\")\n",
    "rudas_likes = pd.read_csv(\"Jul15Outputs/final_outputs/data_rudas_likes.csv\")\n",
    "rudas_comments = pd.read_csv(\"Jul15Outputs/final_outputs/data_rudas_comments.csv\")\n",
    "\n",
    "# Data cleaning: drop duplicate shortcodes. \n",
    "rudas_posts.drop_duplicates(\"SHORTCODE\", inplace = True)\n",
    "oxford_posts.drop_duplicates(\"SHORTCODE\", inplace = True)"
   ]
  },
  {
   "cell_type": "code",
   "execution_count": 209,
   "metadata": {},
   "outputs": [
    {
     "data": {
      "text/plain": [
       "8841"
      ]
     },
     "execution_count": 209,
     "metadata": {},
     "output_type": "execute_result"
    }
   ],
   "source": [
    "rudas_merged = rudas.merge(rudas_posts, left_on = \"SHORTCODE\", right_on = \"SHORTCODE\", how=\"inner\")\n",
    "rudas_merged = rudas_merged.merge(rudas_likes, left_on = \"SHORTCODE\", right_on = \"SHORTCODE\", how = \"inner\")\n",
    "len(rudas_merged.index)"
   ]
  },
  {
   "cell_type": "code",
   "execution_count": 210,
   "metadata": {},
   "outputs": [],
   "source": [
    "rudas = rudas_merged\n",
    "rudas_champagne = rudas[rudas[\"Champagne_Bottle\"] == 1]\n",
    "rudas_vodka = rudas[rudas[\"Vodka_Bottle\"] == 1]\n",
    "rudas_champagne = rudas_champagne.groupby('SHORTCODE').filter(lambda x: x.USER_LIKED.is_unique)\n",
    "rudas_vodka = rudas_vodka.groupby('SHORTCODE').filter(lambda x: x.USER_LIKED.is_unique)"
   ]
  },
  {
   "cell_type": "code",
   "execution_count": 211,
   "metadata": {},
   "outputs": [],
   "source": [
    "import math\n",
    "def agg_gender(series):\n",
    "    males, females, unknown = 0, 0, 0\n",
    "    for gender in series:\n",
    "        if not isinstance(gender, str) and math.isnan(gender):\n",
    "            unknown += 1\n",
    "        elif gender.lower() == \"male\":\n",
    "            males +=1\n",
    "        elif gender.lower() == \"female\":\n",
    "            females += 1\n",
    "    return [males, females, unknown]\n",
    "rudas_vodka_clean = rudas_vodka[[\"SHORTCODE\", \"GENDER\"]]\n",
    "rudas_champagne_clean = rudas_champagne[[\"SHORTCODE\", \"GENDER\"]]\n",
    "vodka = rudas_vodka_clean.groupby(\"SHORTCODE\").agg(agg_gender)\n",
    "champagne = rudas_champagne_clean.groupby(\"SHORTCODE\").agg(agg_gender)"
   ]
  },
  {
   "cell_type": "code",
   "execution_count": 212,
   "metadata": {},
   "outputs": [],
   "source": [
    "men_vodka = [l[0] for l in vodka[\"GENDER\"]]\n",
    "women_vodka = [l[1] for l in vodka.GENDER]\n",
    "unknown_vodka = [l[2] for l in vodka.GENDER]\n",
    "men_champagne = [l[0] for l in champagne[\"GENDER\"]]\n",
    "women_champagne = [l[1] for l in champagne.GENDER]\n",
    "unknown_champagne = [l[2] for l in champagne.GENDER]"
   ]
  },
  {
   "cell_type": "code",
   "execution_count": 213,
   "metadata": {},
   "outputs": [
    {
     "data": {
      "text/plain": [
       "<matplotlib.legend.Legend at 0x11ff58978>"
      ]
     },
     "execution_count": 213,
     "metadata": {},
     "output_type": "execute_result"
    },
    {
     "data": {
      "image/png": "[encoded data removed]",
      "text/plain": [
       "<Figure size 432x288 with 1 Axes>"
      ]
     },
     "metadata": {},
     "output_type": "display_data"
    }
   ],
   "source": [
    "x = [i for i in range(1,len(men_vodka) + 1)]\n",
    "plt.bar(x, men_vodka)\n",
    "plt.bar(x, women_vodka, bottom=men_vodka)\n",
    "plt.bar(x, unknown_vodka, bottom = np.array(men_vodka) + np.array(women_vodka))\n",
    "plt.title(\"Distribution of Likes by Gender for Rudas Posts Containing Vodka\")\n",
    "plt.xlabel(\"Post\")\n",
    "plt.ylabel(\"Number of likes\")\n",
    "plt.legend([\"men\", \"women\", \"unknown\"])"
   ]
  },
  {
   "cell_type": "code",
   "execution_count": 214,
   "metadata": {},
   "outputs": [
    {
     "data": {
      "text/plain": [
       "<matplotlib.legend.Legend at 0x11dcb6278>"
      ]
     },
     "execution_count": 214,
     "metadata": {},
     "output_type": "execute_result"
    },
    {
     "data": {
      "image/png": "[encoded data removed]",
      "text/plain": [
       "<Figure size 432x288 with 1 Axes>"
      ]
     },
     "metadata": {},
     "output_type": "display_data"
    }
   ],
   "source": [
    "x = [i for i in range(1,len(men_champagne) + 1)]\n",
    "plt.bar(x, men_champagne)\n",
    "plt.bar(x, women_champagne, bottom = men_champagne)\n",
    "plt.bar(x, unknown_champagne, bottom = [a+b for a,b in zip(men_champagne, women_champagne)])\n",
    "plt.title(\"Distribution of Likes by Gender for Rudas Posts Containing Champagne\")\n",
    "plt.xlabel(\"Post\")\n",
    "plt.ylabel(\"Number of likes\")\n",
    "plt.legend([\"men\", \"women\", \"unknown\"])"
   ]
  },
  {
   "cell_type": "code",
   "execution_count": 215,
   "metadata": {},
   "outputs": [
    {
     "data": {
      "text/plain": [
       "(2.5714285714285716, 2.142857142857143)"
      ]
     },
     "execution_count": 215,
     "metadata": {},
     "output_type": "execute_result"
    }
   ],
   "source": [
    "np.mean(men_vodka), np.mean(women_vodka)"
   ]
  },
  {
   "cell_type": "code",
   "execution_count": 216,
   "metadata": {},
   "outputs": [
    {
     "data": {
      "text/plain": [
       "(2.5294117647058822, 2.235294117647059)"
      ]
     },
     "execution_count": 216,
     "metadata": {},
     "output_type": "execute_result"
    }
   ],
   "source": [
    "np.mean(men_champagne), np.mean(women_champagne)"
   ]
  },
  {
   "cell_type": "code",
   "execution_count": 217,
   "metadata": {},
   "outputs": [],
   "source": [
    "oxford_merged = oxford.merge(oxford_posts, left_on = \"SHORTCODE\", right_on = \"SHORTCODE\", how=\"inner\")\n",
    "oxford_merged = oxford_merged.merge(oxford_likes, left_on = \"SHORTCODE\", right_on = \"SHORTCODE\", how = \"inner\")\n",
    "oxford = oxford_merged\n",
    "oxford_champagne = oxford[oxford[\"Champagne_Bottle\"] == 1]\n",
    "oxford_vodka = oxford[oxford[\"Vodka_Bottle\"] == 1]\n",
    "oxford_champagne = oxford_champagne.groupby('SHORTCODE').filter(lambda x: x.USER_LIKED.is_unique)\n",
    "oxford_vodka = oxford_vodka.groupby('SHORTCODE').filter(lambda x: x.USER_LIKED.is_unique)\n",
    "oxford_vodka_clean = oxford_vodka[[\"SHORTCODE\", \"GENDER\"]]\n",
    "oxford_champagne_clean = oxford_champagne[[\"SHORTCODE\", \"GENDER\"]]\n",
    "vodka = oxford_vodka_clean.groupby(\"SHORTCODE\").agg(agg_gender)\n",
    "champagne = oxford_champagne_clean.groupby(\"SHORTCODE\").agg(agg_gender)"
   ]
  },
  {
   "cell_type": "code",
   "execution_count": 218,
   "metadata": {},
   "outputs": [],
   "source": [
    "men_vodka = [l[0] for l in vodka[\"GENDER\"]]\n",
    "women_vodka = [l[1] for l in vodka.GENDER]\n",
    "unknown_vodka = [l[2] for l in vodka.GENDER]\n",
    "men_champagne = [l[0] for l in champagne[\"GENDER\"]]\n",
    "women_champagne = [l[1] for l in champagne.GENDER]\n",
    "unknown_champagne = [l[2] for l in champagne.GENDER]"
   ]
  },
  {
   "cell_type": "code",
   "execution_count": 222,
   "metadata": {},
   "outputs": [
    {
     "data": {
      "text/plain": [
       "<matplotlib.legend.Legend at 0x11e7cca58>"
      ]
     },
     "execution_count": 222,
     "metadata": {},
     "output_type": "execute_result"
    },
    {
     "data": {
      "image/png": "[encoded data removed]",
      "text/plain": [
       "<Figure size 432x288 with 1 Axes>"
      ]
     },
     "metadata": {},
     "output_type": "display_data"
    }
   ],
   "source": [
    "x = [i for i in range(1,len(men_vodka) + 1)]\n",
    "plt.bar(x, men_vodka)\n",
    "plt.bar(x, women_vodka, bottom=men_vodka)\n",
    "plt.bar(x, unknown_vodka, bottom = np.array(men_vodka) + np.array(women_vodka))\n",
    "plt.title(\"Distribution of Likes by Gender for Oxford Posts Containing Vodka\")\n",
    "plt.xlabel(\"Post\")\n",
    "plt.ylabel(\"Number of likes\")\n",
    "plt.legend([\"men\", \"women\", \"unknown\"])"
   ]
  },
  {
   "cell_type": "code",
   "execution_count": 221,
   "metadata": {},
   "outputs": [
    {
     "data": {
      "text/plain": [
       "<matplotlib.legend.Legend at 0x11f0ec5c0>"
      ]
     },
     "execution_count": 221,
     "metadata": {},
     "output_type": "execute_result"
    },
    {
     "data": {
      "image/png": "[encoded data removed]",
      "text/plain": [
       "<Figure size 432x288 with 1 Axes>"
      ]
     },
     "metadata": {},
     "output_type": "display_data"
    }
   ],
   "source": [
    "x = [i for i in range(1,len(men_champagne) + 1)]\n",
    "plt.bar(x, men_champagne)\n",
    "plt.bar(x, women_champagne, bottom = men_champagne)\n",
    "plt.bar(x, unknown_champagne, bottom = [a+b for a,b in zip(men_champagne, women_champagne)])\n",
    "plt.title(\"Distribution of Likes by Gender for Oxford Posts Containing Champagne\")\n",
    "plt.xlabel(\"Post\")\n",
    "plt.ylabel(\"Number of likes\")\n",
    "plt.legend([\"men\", \"women\", \"unknown\"])"
   ]
  },
  {
   "cell_type": "code",
   "execution_count": 225,
   "metadata": {},
   "outputs": [
    {
     "data": {
      "text/plain": [
       "(4.333333333333333, 3.3333333333333335)"
      ]
     },
     "execution_count": 225,
     "metadata": {},
     "output_type": "execute_result"
    }
   ],
   "source": [
    "np.mean(men_vodka), np.mean(women_vodka)"
   ]
  },
  {
   "cell_type": "code",
   "execution_count": 226,
   "metadata": {},
   "outputs": [
    {
     "data": {
      "text/plain": [
       "(3.176470588235294, 3.588235294117647)"
      ]
     },
     "execution_count": 226,
     "metadata": {},
     "output_type": "execute_result"
    }
   ],
   "source": [
    "np.mean(men_champagne), np.mean(women_champagne)"
   ]
  },
  {
   "cell_type": "code",
   "execution_count": 227,
   "metadata": {},
   "outputs": [
    {
     "data": {
      "text/plain": [
       "17"
      ]
     },
     "execution_count": 227,
     "metadata": {},
     "output_type": "execute_result"
    }
   ],
   "source": [
    "len(men_champagne)"
   ]
  },
  {
   "cell_type": "code",
   "execution_count": null,
   "metadata": {},
   "outputs": [],
   "source": []
  }
 ],
 "metadata": {
  "kernelspec": {
   "display_name": "Python 3",
   "language": "python",
   "name": "python3"
  },
  "language_info": {
   "codemirror_mode": {
    "name": "ipython",
    "version": 3
   },
   "file_extension": ".py",
   "mimetype": "text/x-python",
   "name": "python",
   "nbconvert_exporter": "python",
   "pygments_lexer": "ipython3",
   "version": "3.7.0"
  }
 },
 "nbformat": 4,
 "nbformat_minor": 2
}
